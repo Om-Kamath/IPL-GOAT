{
 "cells": [
  {
   "cell_type": "markdown",
   "metadata": {},
   "source": [
    "## Weighted Sum for Out Project\n"
   ]
  },
  {
   "cell_type": "code",
   "execution_count": 2,
   "metadata": {},
   "outputs": [],
   "source": [
    "import pandas as pd\n",
    "import numpy as np"
   ]
  },
  {
   "cell_type": "code",
   "execution_count": 4,
   "metadata": {},
   "outputs": [],
   "source": [
    "new_df = pd.read_csv('datasets/batter_agg.csv')\n",
    "weights = np.array([0.2,0.5,0.8,0.7])"
   ]
  },
  {
   "cell_type": "code",
   "execution_count": 12,
   "metadata": {},
   "outputs": [
    {
     "data": {
      "text/plain": [
       "Index(['batter', 'innings', 'total_runs', 'total_balls', 'outs', 'total_50s',\n",
       "       'total_100s', 'avg_strike_rate', 'motm_count', 'orange_caps', 'average',\n",
       "       'fours', 'sixes'],\n",
       "      dtype='object')"
      ]
     },
     "execution_count": 12,
     "metadata": {},
     "output_type": "execute_result"
    }
   ],
   "source": [
    "new_df.columns"
   ]
  },
  {
   "cell_type": "code",
   "execution_count": 20,
   "metadata": {},
   "outputs": [],
   "source": [
    "new_df[\"score\"] = np.sum(new_df[[\"innings\",\"total_runs\",\"outs\",\"avg_strike_rate\"]]* weights, axis=1)"
   ]
  },
  {
   "cell_type": "code",
   "execution_count": 24,
   "metadata": {},
   "outputs": [
    {
     "data": {
      "text/html": [
       "<div>\n",
       "<style scoped>\n",
       "    .dataframe tbody tr th:only-of-type {\n",
       "        vertical-align: middle;\n",
       "    }\n",
       "\n",
       "    .dataframe tbody tr th {\n",
       "        vertical-align: top;\n",
       "    }\n",
       "\n",
       "    .dataframe thead th {\n",
       "        text-align: right;\n",
       "    }\n",
       "</style>\n",
       "<table border=\"1\" class=\"dataframe\">\n",
       "  <thead>\n",
       "    <tr style=\"text-align: right;\">\n",
       "      <th></th>\n",
       "      <th>batter</th>\n",
       "      <th>innings</th>\n",
       "      <th>total_runs</th>\n",
       "      <th>total_balls</th>\n",
       "      <th>outs</th>\n",
       "      <th>total_50s</th>\n",
       "      <th>total_100s</th>\n",
       "      <th>avg_strike_rate</th>\n",
       "      <th>motm_count</th>\n",
       "      <th>orange_caps</th>\n",
       "      <th>average</th>\n",
       "      <th>fours</th>\n",
       "      <th>sixes</th>\n",
       "      <th>score</th>\n",
       "    </tr>\n",
       "  </thead>\n",
       "  <tbody>\n",
       "    <tr>\n",
       "      <th>569</th>\n",
       "      <td>V Kohli</td>\n",
       "      <td>215</td>\n",
       "      <td>6634</td>\n",
       "      <td>5266</td>\n",
       "      <td>193</td>\n",
       "      <td>45</td>\n",
       "      <td>5</td>\n",
       "      <td>112.298264</td>\n",
       "      <td>14</td>\n",
       "      <td>1</td>\n",
       "      <td>30.855814</td>\n",
       "      <td>580</td>\n",
       "      <td>218</td>\n",
       "      <td>3593.008785</td>\n",
       "    </tr>\n",
       "    <tr>\n",
       "      <th>462</th>\n",
       "      <td>S Dhawan</td>\n",
       "      <td>205</td>\n",
       "      <td>6244</td>\n",
       "      <td>5083</td>\n",
       "      <td>179</td>\n",
       "      <td>47</td>\n",
       "      <td>2</td>\n",
       "      <td>108.661141</td>\n",
       "      <td>11</td>\n",
       "      <td>0</td>\n",
       "      <td>30.458537</td>\n",
       "      <td>701</td>\n",
       "      <td>136</td>\n",
       "      <td>3382.262799</td>\n",
       "    </tr>\n",
       "    <tr>\n",
       "      <th>430</th>\n",
       "      <td>RG Sharma</td>\n",
       "      <td>221</td>\n",
       "      <td>5881</td>\n",
       "      <td>4632</td>\n",
       "      <td>203</td>\n",
       "      <td>40</td>\n",
       "      <td>1</td>\n",
       "      <td>109.642925</td>\n",
       "      <td>18</td>\n",
       "      <td>0</td>\n",
       "      <td>26.610860</td>\n",
       "      <td>519</td>\n",
       "      <td>240</td>\n",
       "      <td>3223.850048</td>\n",
       "    </tr>\n",
       "    <tr>\n",
       "      <th>130</th>\n",
       "      <td>DA Warner</td>\n",
       "      <td>162</td>\n",
       "      <td>5883</td>\n",
       "      <td>4313</td>\n",
       "      <td>143</td>\n",
       "      <td>55</td>\n",
       "      <td>4</td>\n",
       "      <td>117.836638</td>\n",
       "      <td>18</td>\n",
       "      <td>3</td>\n",
       "      <td>36.314815</td>\n",
       "      <td>577</td>\n",
       "      <td>216</td>\n",
       "      <td>3170.785647</td>\n",
       "    </tr>\n",
       "    <tr>\n",
       "      <th>493</th>\n",
       "      <td>SK Raina</td>\n",
       "      <td>200</td>\n",
       "      <td>5536</td>\n",
       "      <td>4177</td>\n",
       "      <td>168</td>\n",
       "      <td>39</td>\n",
       "      <td>1</td>\n",
       "      <td>115.116901</td>\n",
       "      <td>14</td>\n",
       "      <td>0</td>\n",
       "      <td>27.680000</td>\n",
       "      <td>506</td>\n",
       "      <td>204</td>\n",
       "      <td>3022.981831</td>\n",
       "    </tr>\n",
       "  </tbody>\n",
       "</table>\n",
       "</div>"
      ],
      "text/plain": [
       "        batter  innings  total_runs  total_balls  outs  total_50s  total_100s  \\\n",
       "569    V Kohli      215        6634         5266   193         45           5   \n",
       "462   S Dhawan      205        6244         5083   179         47           2   \n",
       "430  RG Sharma      221        5881         4632   203         40           1   \n",
       "130  DA Warner      162        5883         4313   143         55           4   \n",
       "493   SK Raina      200        5536         4177   168         39           1   \n",
       "\n",
       "     avg_strike_rate  motm_count  orange_caps    average  fours  sixes  \\\n",
       "569       112.298264          14            1  30.855814    580    218   \n",
       "462       108.661141          11            0  30.458537    701    136   \n",
       "430       109.642925          18            0  26.610860    519    240   \n",
       "130       117.836638          18            3  36.314815    577    216   \n",
       "493       115.116901          14            0  27.680000    506    204   \n",
       "\n",
       "           score  \n",
       "569  3593.008785  \n",
       "462  3382.262799  \n",
       "430  3223.850048  \n",
       "130  3170.785647  \n",
       "493  3022.981831  "
      ]
     },
     "execution_count": 24,
     "metadata": {},
     "output_type": "execute_result"
    }
   ],
   "source": [
    "new_df.sort_values(by=\"score\", ascending=False).head(5)"
   ]
  },
  {
   "cell_type": "code",
   "execution_count": null,
   "metadata": {},
   "outputs": [],
   "source": []
  }
 ],
 "metadata": {
  "kernelspec": {
   "display_name": "Python 3",
   "language": "python",
   "name": "python3"
  },
  "language_info": {
   "codemirror_mode": {
    "name": "ipython",
    "version": 3
   },
   "file_extension": ".py",
   "mimetype": "text/x-python",
   "name": "python",
   "nbconvert_exporter": "python",
   "pygments_lexer": "ipython3",
   "version": "3.9.6"
  }
 },
 "nbformat": 4,
 "nbformat_minor": 2
}
